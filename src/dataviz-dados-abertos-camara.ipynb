{
 "cells": [
  {
   "cell_type": "markdown",
   "metadata": {},
   "source": [
    "Atividades"
   ]
  },
  {
   "cell_type": "code",
   "execution_count": 2,
   "metadata": {},
   "outputs": [],
   "source": [
    "#Importando bibliotecas utilizadas\n",
    "\n",
    "import pandas as pd\n",
    "import numpy as np\n",
    "import seaborn as sns\n",
    "import matplotlib.pyplot as plt\n"
   ]
  },
  {
   "cell_type": "markdown",
   "metadata": {},
   "source": [
    "**Atividade - Visualização de Dados**\n",
    "\n",
    "Definição do escopo da visualização de dados\n",
    "\n",
    "1. Problema: Falta de monitoramento e transparencia dos custos com parlamentares;\n",
    "\n",
    "2. Objetivo: Desenvolver um dashboard de monitoramento de custos;\n",
    "\n",
    "3. Fonte de dados: http://www.camara.leg.br/cotas/Ano-XXXX.csv.zip\n",
    "\n",
    "4. Frequência: Atualização diária\n"
   ]
  },
  {
   "cell_type": "code",
   "execution_count": 11,
   "metadata": {},
   "outputs": [
    {
     "data": {
      "text/html": [
       "<div>\n",
       "<style scoped>\n",
       "    .dataframe tbody tr th:only-of-type {\n",
       "        vertical-align: middle;\n",
       "    }\n",
       "\n",
       "    .dataframe tbody tr th {\n",
       "        vertical-align: top;\n",
       "    }\n",
       "\n",
       "    .dataframe thead th {\n",
       "        text-align: right;\n",
       "    }\n",
       "</style>\n",
       "<table border=\"1\" class=\"dataframe\">\n",
       "  <thead>\n",
       "    <tr style=\"text-align: right;\">\n",
       "      <th></th>\n",
       "      <th>txNomeParlamentar</th>\n",
       "      <th>cpf</th>\n",
       "      <th>ideCadastro</th>\n",
       "      <th>nuCarteiraParlamentar</th>\n",
       "      <th>nuLegislatura</th>\n",
       "      <th>sgUF</th>\n",
       "      <th>sgPartido</th>\n",
       "      <th>codLegislatura</th>\n",
       "      <th>numSubCota</th>\n",
       "      <th>txtDescricao</th>\n",
       "      <th>...</th>\n",
       "      <th>numAno</th>\n",
       "      <th>numParcela</th>\n",
       "      <th>txtPassageiro</th>\n",
       "      <th>txtTrecho</th>\n",
       "      <th>numLote</th>\n",
       "      <th>numRessarcimento</th>\n",
       "      <th>vlrRestituicao</th>\n",
       "      <th>nuDeputadoId</th>\n",
       "      <th>ideDocumento</th>\n",
       "      <th>urlDocumento</th>\n",
       "    </tr>\n",
       "  </thead>\n",
       "  <tbody>\n",
       "    <tr>\n",
       "      <th>0</th>\n",
       "      <td>LID.GOV-CD</td>\n",
       "      <td>NaN</td>\n",
       "      <td>NaN</td>\n",
       "      <td>NaN</td>\n",
       "      <td>2015</td>\n",
       "      <td>NaN</td>\n",
       "      <td>NaN</td>\n",
       "      <td>55</td>\n",
       "      <td>13</td>\n",
       "      <td>FORNECIMENTO DE ALIMENTAÇÃO DO PARLAMENTAR</td>\n",
       "      <td>...</td>\n",
       "      <td>2019</td>\n",
       "      <td>0</td>\n",
       "      <td>NaN</td>\n",
       "      <td>NaN</td>\n",
       "      <td>1554246</td>\n",
       "      <td>NaN</td>\n",
       "      <td>NaN</td>\n",
       "      <td>2812</td>\n",
       "      <td>6738121</td>\n",
       "      <td>https://www.camara.leg.br/cota-parlamentar/not...</td>\n",
       "    </tr>\n",
       "    <tr>\n",
       "      <th>1</th>\n",
       "      <td>LID.GOV-CD</td>\n",
       "      <td>NaN</td>\n",
       "      <td>NaN</td>\n",
       "      <td>NaN</td>\n",
       "      <td>2019</td>\n",
       "      <td>NaN</td>\n",
       "      <td>NaN</td>\n",
       "      <td>56</td>\n",
       "      <td>13</td>\n",
       "      <td>FORNECIMENTO DE ALIMENTAÇÃO DO PARLAMENTAR</td>\n",
       "      <td>...</td>\n",
       "      <td>2019</td>\n",
       "      <td>0</td>\n",
       "      <td>NaN</td>\n",
       "      <td>NaN</td>\n",
       "      <td>1570078</td>\n",
       "      <td>NaN</td>\n",
       "      <td>NaN</td>\n",
       "      <td>2812</td>\n",
       "      <td>6769606</td>\n",
       "      <td>https://www.camara.leg.br/cota-parlamentar/not...</td>\n",
       "    </tr>\n",
       "    <tr>\n",
       "      <th>2</th>\n",
       "      <td>LID.GOV-CD</td>\n",
       "      <td>NaN</td>\n",
       "      <td>NaN</td>\n",
       "      <td>NaN</td>\n",
       "      <td>2019</td>\n",
       "      <td>NaN</td>\n",
       "      <td>NaN</td>\n",
       "      <td>56</td>\n",
       "      <td>13</td>\n",
       "      <td>FORNECIMENTO DE ALIMENTAÇÃO DO PARLAMENTAR</td>\n",
       "      <td>...</td>\n",
       "      <td>2019</td>\n",
       "      <td>0</td>\n",
       "      <td>NaN</td>\n",
       "      <td>NaN</td>\n",
       "      <td>1570503</td>\n",
       "      <td>NaN</td>\n",
       "      <td>NaN</td>\n",
       "      <td>2812</td>\n",
       "      <td>6771099</td>\n",
       "      <td>https://www.camara.leg.br/cota-parlamentar/not...</td>\n",
       "    </tr>\n",
       "    <tr>\n",
       "      <th>3</th>\n",
       "      <td>LID.GOV-CD</td>\n",
       "      <td>NaN</td>\n",
       "      <td>NaN</td>\n",
       "      <td>NaN</td>\n",
       "      <td>2019</td>\n",
       "      <td>NaN</td>\n",
       "      <td>NaN</td>\n",
       "      <td>56</td>\n",
       "      <td>13</td>\n",
       "      <td>FORNECIMENTO DE ALIMENTAÇÃO DO PARLAMENTAR</td>\n",
       "      <td>...</td>\n",
       "      <td>2019</td>\n",
       "      <td>0</td>\n",
       "      <td>NaN</td>\n",
       "      <td>NaN</td>\n",
       "      <td>1579375</td>\n",
       "      <td>NaN</td>\n",
       "      <td>NaN</td>\n",
       "      <td>2812</td>\n",
       "      <td>6793690</td>\n",
       "      <td>https://www.camara.leg.br/cota-parlamentar/not...</td>\n",
       "    </tr>\n",
       "    <tr>\n",
       "      <th>4</th>\n",
       "      <td>LID.GOV-CD</td>\n",
       "      <td>NaN</td>\n",
       "      <td>NaN</td>\n",
       "      <td>NaN</td>\n",
       "      <td>2019</td>\n",
       "      <td>NaN</td>\n",
       "      <td>NaN</td>\n",
       "      <td>56</td>\n",
       "      <td>13</td>\n",
       "      <td>FORNECIMENTO DE ALIMENTAÇÃO DO PARLAMENTAR</td>\n",
       "      <td>...</td>\n",
       "      <td>2019</td>\n",
       "      <td>0</td>\n",
       "      <td>NaN</td>\n",
       "      <td>NaN</td>\n",
       "      <td>1590980</td>\n",
       "      <td>NaN</td>\n",
       "      <td>NaN</td>\n",
       "      <td>2812</td>\n",
       "      <td>6821674</td>\n",
       "      <td>https://www.camara.leg.br/cota-parlamentar/not...</td>\n",
       "    </tr>\n",
       "  </tbody>\n",
       "</table>\n",
       "<p>5 rows × 31 columns</p>\n",
       "</div>"
      ],
      "text/plain": [
       "  txNomeParlamentar  cpf  ideCadastro  nuCarteiraParlamentar  nuLegislatura  \\\n",
       "0        LID.GOV-CD  NaN          NaN                    NaN           2015   \n",
       "1        LID.GOV-CD  NaN          NaN                    NaN           2019   \n",
       "2        LID.GOV-CD  NaN          NaN                    NaN           2019   \n",
       "3        LID.GOV-CD  NaN          NaN                    NaN           2019   \n",
       "4        LID.GOV-CD  NaN          NaN                    NaN           2019   \n",
       "\n",
       "  sgUF sgPartido  codLegislatura  numSubCota  \\\n",
       "0  NaN       NaN              55          13   \n",
       "1  NaN       NaN              56          13   \n",
       "2  NaN       NaN              56          13   \n",
       "3  NaN       NaN              56          13   \n",
       "4  NaN       NaN              56          13   \n",
       "\n",
       "                                 txtDescricao  ...  numAno numParcela  \\\n",
       "0  FORNECIMENTO DE ALIMENTAÇÃO DO PARLAMENTAR  ...    2019          0   \n",
       "1  FORNECIMENTO DE ALIMENTAÇÃO DO PARLAMENTAR  ...    2019          0   \n",
       "2  FORNECIMENTO DE ALIMENTAÇÃO DO PARLAMENTAR  ...    2019          0   \n",
       "3  FORNECIMENTO DE ALIMENTAÇÃO DO PARLAMENTAR  ...    2019          0   \n",
       "4  FORNECIMENTO DE ALIMENTAÇÃO DO PARLAMENTAR  ...    2019          0   \n",
       "\n",
       "  txtPassageiro txtTrecho  numLote  numRessarcimento vlrRestituicao  \\\n",
       "0           NaN       NaN  1554246               NaN            NaN   \n",
       "1           NaN       NaN  1570078               NaN            NaN   \n",
       "2           NaN       NaN  1570503               NaN            NaN   \n",
       "3           NaN       NaN  1579375               NaN            NaN   \n",
       "4           NaN       NaN  1590980               NaN            NaN   \n",
       "\n",
       "   nuDeputadoId  ideDocumento  \\\n",
       "0          2812       6738121   \n",
       "1          2812       6769606   \n",
       "2          2812       6771099   \n",
       "3          2812       6793690   \n",
       "4          2812       6821674   \n",
       "\n",
       "                                        urlDocumento  \n",
       "0  https://www.camara.leg.br/cota-parlamentar/not...  \n",
       "1  https://www.camara.leg.br/cota-parlamentar/not...  \n",
       "2  https://www.camara.leg.br/cota-parlamentar/not...  \n",
       "3  https://www.camara.leg.br/cota-parlamentar/not...  \n",
       "4  https://www.camara.leg.br/cota-parlamentar/not...  \n",
       "\n",
       "[5 rows x 31 columns]"
      ]
     },
     "execution_count": 11,
     "metadata": {},
     "output_type": "execute_result"
    }
   ],
   "source": [
    "ano_corrente = 2022 + 1   #Ano inicial da base de dados\n",
    "inicio = ano_corrente - 4    #Ano final da base de dados\n",
    "\n",
    "anos = [*range(inicio, ano_corrente, 1)]\n",
    "consolidated_df = []\n",
    "\n",
    "for ano in anos:\n",
    "    df = pd.read_csv(\"http://www.camara.leg.br/cotas/Ano-\"+ str(ano) +\".csv.zip\", sep=\";\")\n",
    "    consolidated_df.append(df)\n",
    "\n",
    "consolidated_df = pd.concat(consolidated_df)\n",
    "consolidated_df.head()"
   ]
  },
  {
   "cell_type": "markdown",
   "metadata": {},
   "source": [
    "**Análise Exploratória de Dados**"
   ]
  },
  {
   "cell_type": "code",
   "execution_count": 12,
   "metadata": {},
   "outputs": [
    {
     "data": {
      "text/plain": [
       "array([2019, 2020, 2021, 2022], dtype=int64)"
      ]
     },
     "execution_count": 12,
     "metadata": {},
     "output_type": "execute_result"
    }
   ],
   "source": [
    "consolidated_df[\"numAno\"].unique()"
   ]
  },
  {
   "cell_type": "code",
   "execution_count": 13,
   "metadata": {},
   "outputs": [
    {
     "data": {
      "text/plain": [
       "(781981, 31)"
      ]
     },
     "execution_count": 13,
     "metadata": {},
     "output_type": "execute_result"
    }
   ],
   "source": [
    "consolidated_df.shape #Formato do dataframe (linhas, colunas)"
   ]
  },
  {
   "cell_type": "code",
   "execution_count": 14,
   "metadata": {},
   "outputs": [
    {
     "name": "stdout",
     "output_type": "stream",
     "text": [
      "<class 'pandas.core.frame.DataFrame'>\n",
      "Int64Index: 781981 entries, 0 to 113666\n",
      "Data columns (total 31 columns):\n",
      " #   Column                     Non-Null Count   Dtype  \n",
      "---  ------                     --------------   -----  \n",
      " 0   txNomeParlamentar          781981 non-null  object \n",
      " 1   cpf                        779315 non-null  float64\n",
      " 2   ideCadastro                779414 non-null  float64\n",
      " 3   nuCarteiraParlamentar      779414 non-null  float64\n",
      " 4   nuLegislatura              781981 non-null  int64  \n",
      " 5   sgUF                       779414 non-null  object \n",
      " 6   sgPartido                  779414 non-null  object \n",
      " 7   codLegislatura             781981 non-null  int64  \n",
      " 8   numSubCota                 781981 non-null  int64  \n",
      " 9   txtDescricao               781981 non-null  object \n",
      " 10  numEspecificacaoSubCota    781981 non-null  int64  \n",
      " 11  txtDescricaoEspecificacao  192574 non-null  object \n",
      " 12  txtFornecedor              781948 non-null  object \n",
      " 13  txtCNPJCPF                 708335 non-null  object \n",
      " 14  txtNumero                  781978 non-null  object \n",
      " 15  indTipoDocumento           781981 non-null  int64  \n",
      " 16  datEmissao                 761224 non-null  object \n",
      " 17  vlrDocumento               781981 non-null  float64\n",
      " 18  vlrGlosa                   781981 non-null  float64\n",
      " 19  vlrLiquido                 781981 non-null  float64\n",
      " 20  numMes                     781981 non-null  int64  \n",
      " 21  numAno                     781981 non-null  int64  \n",
      " 22  numParcela                 781981 non-null  int64  \n",
      " 23  txtPassageiro              194309 non-null  object \n",
      " 24  txtTrecho                  193063 non-null  object \n",
      " 25  numLote                    781981 non-null  int64  \n",
      " 26  numRessarcimento           261270 non-null  float64\n",
      " 27  vlrRestituicao             447 non-null     float64\n",
      " 28  nuDeputadoId               781981 non-null  int64  \n",
      " 29  ideDocumento               781981 non-null  int64  \n",
      " 30  urlDocumento               487267 non-null  object \n",
      "dtypes: float64(8), int64(11), object(12)\n",
      "memory usage: 190.9+ MB\n"
     ]
    }
   ],
   "source": [
    "consolidated_df.info() #Colunas do dataframe"
   ]
  },
  {
   "cell_type": "code",
   "execution_count": 15,
   "metadata": {},
   "outputs": [
    {
     "data": {
      "image/png": "[encoded data removed]",
      "text/plain": [
       "<Figure size 432x288 with 1 Axes>"
      ]
     },
     "metadata": {
      "needs_background": "light"
     },
     "output_type": "display_data"
    }
   ],
   "source": [
    "#check for null values\n",
    "\n",
    "\n",
    "(\n",
    "    consolidated_df\n",
    "    .isnull()\n",
    "    .sum()\n",
    "    .sort_values(ascending=False)\n",
    "    / consolidated_df.shape[0]\n",
    ").plot(kind=\"bar\")\n",
    "\n",
    "plt.title(\"% of Null Values Per Variable\")\n",
    "\n",
    "plt.show()\n"
   ]
  },
  {
   "cell_type": "markdown",
   "metadata": {},
   "source": [
    "**Dashboard**"
   ]
  },
  {
   "cell_type": "code",
   "execution_count": 22,
   "metadata": {},
   "outputs": [],
   "source": [
    "ano_corrente_df = consolidated_df[consolidated_df[\"numAno\"] == (ano_corrente - 1)]"
   ]
  },
  {
   "cell_type": "code",
   "execution_count": 29,
   "metadata": {},
   "outputs": [
    {
     "data": {
      "image/png": "[encoded data removed]",
      "text/plain": [
       "<Figure size 432x288 with 1 Axes>"
      ]
     },
     "metadata": {
      "needs_background": "light"
     },
     "output_type": "display_data"
    }
   ],
   "source": [
    "(\n",
    "    ano_corrente_df\n",
    "    .groupby(\"sgPartido\")[\"vlrDocumento\"]\n",
    "    .sum()\n",
    "    .sort_values(ascending=False)\n",
    "    / ano_corrente_df[\"vlrDocumento\"].sum()\n",
    ").plot(kind=\"bar\")\n",
    "\n",
    "plt.title(\"Participação no Custo Total - \" + str(ano_corrente - 1))\n",
    "\n",
    "plt.show()"
   ]
  },
  {
   "cell_type": "code",
   "execution_count": 30,
   "metadata": {},
   "outputs": [
    {
     "data": {
      "image/png": "[encoded data removed]",
      "text/plain": [
       "<Figure size 432x288 with 1 Axes>"
      ]
     },
     "metadata": {
      "needs_background": "light"
     },
     "output_type": "display_data"
    }
   ],
   "source": [
    "(\n",
    "    ano_corrente_df[ano_corrente_df[\"cpf\"].notnull()]\n",
    "    .groupby(\"sgPartido\")[\"cpf\"]\n",
    "    .nunique()\n",
    "    .sort_values(ascending=False)\n",
    "\n",
    ").plot(kind=\"bar\")\n",
    "\n",
    "plt.title(\"Numero de CPFs Por Partido - \" + str(ano_corrente - 1))\n",
    "\n",
    "plt.show()"
   ]
  },
  {
   "cell_type": "code",
   "execution_count": 32,
   "metadata": {},
   "outputs": [
    {
     "data": {
      "image/png": "[encoded data removed]",
      "text/plain": [
       "<Figure size 432x288 with 1 Axes>"
      ]
     },
     "metadata": {
      "needs_background": "light"
     },
     "output_type": "display_data"
    }
   ],
   "source": [
    "(\n",
    "    ano_corrente_df\n",
    "    .groupby(\"sgPartido\")[\"vlrDocumento\"]\n",
    "    .sum()\n",
    "    /\n",
    "    ano_corrente_df\n",
    "    .groupby(\"sgPartido\")[\"cpf\"]\n",
    "    .nunique()\n",
    "    \n",
    ").sort_values(ascending=False).plot(kind=\"barh\")\n",
    "\n",
    "plt.title(\"Custo Por CPF - \" + str(ano_corrente - 1))\n",
    "\n",
    "plt.show()"
   ]
  }
 ],
 "metadata": {
  "kernelspec": {
   "display_name": "ds",
   "language": "python",
   "name": "ds"
  },
  "language_info": {
   "codemirror_mode": {
    "name": "ipython",
    "version": 3
   },
   "file_extension": ".py",
   "mimetype": "text/x-python",
   "name": "python",
   "nbconvert_exporter": "python",
   "pygments_lexer": "ipython3",
   "version": "3.10.4"
  },
  "orig_nbformat": 4,
  "vscode": {
   "interpreter": {
    "hash": "f974952c88f2ddaaf82cbc9a32c8a5b60b9ff9c2ed0dcf2415b1fdd18c0864ed"
   }
  }
 },
 "nbformat": 4,
 "nbformat_minor": 2
}
