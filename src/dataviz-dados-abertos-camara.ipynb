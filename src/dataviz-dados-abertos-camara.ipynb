{
 "cells": [
  {
   "cell_type": "markdown",
   "metadata": {},
   "source": [
    "Atividades"
   ]
  },
  {
   "cell_type": "code",
   "execution_count": 8,
   "metadata": {},
   "outputs": [],
   "source": [
    "#Importando bibliotecas utilizadas\n",
    "\n",
    "import pandas as pd\n",
    "import numpy as np\n",
    "import seaborn as sns\n",
    "import matplotlib.pyplot as plt\n"
   ]
  },
  {
   "cell_type": "markdown",
   "metadata": {},
   "source": [
    "**Atividade - Visualização de Dados**\n",
    "\n",
    "Definição do escopo da visualização de dados\n",
    "\n",
    "1. Problema: Falta de monitoramento e transparencia dos custos com parlamentares;\n",
    "\n",
    "2. Objetivo: Desenvolver um dashboard de monitoramento de custos;\n",
    "\n",
    "3. Fonte de dados: http://www.camara.leg.br/cotas/Ano-XXXX.csv.zip\n",
    "\n",
    "4. Frequência: Atualização diária\n"
   ]
  },
  {
   "cell_type": "code",
   "execution_count": 13,
   "metadata": {},
   "outputs": [
    {
     "data": {
      "text/html": [
       "<div>\n",
       "<style scoped>\n",
       "    .dataframe tbody tr th:only-of-type {\n",
       "        vertical-align: middle;\n",
       "    }\n",
       "\n",
       "    .dataframe tbody tr th {\n",
       "        vertical-align: top;\n",
       "    }\n",
       "\n",
       "    .dataframe thead th {\n",
       "        text-align: right;\n",
       "    }\n",
       "</style>\n",
       "<table border=\"1\" class=\"dataframe\">\n",
       "  <thead>\n",
       "    <tr style=\"text-align: right;\">\n",
       "      <th></th>\n",
       "      <th>txNomeParlamentar</th>\n",
       "      <th>cpf</th>\n",
       "      <th>ideCadastro</th>\n",
       "      <th>nuCarteiraParlamentar</th>\n",
       "      <th>nuLegislatura</th>\n",
       "      <th>sgUF</th>\n",
       "      <th>sgPartido</th>\n",
       "      <th>codLegislatura</th>\n",
       "      <th>numSubCota</th>\n",
       "      <th>txtDescricao</th>\n",
       "      <th>...</th>\n",
       "      <th>numAno</th>\n",
       "      <th>numParcela</th>\n",
       "      <th>txtPassageiro</th>\n",
       "      <th>txtTrecho</th>\n",
       "      <th>numLote</th>\n",
       "      <th>numRessarcimento</th>\n",
       "      <th>vlrRestituicao</th>\n",
       "      <th>nuDeputadoId</th>\n",
       "      <th>ideDocumento</th>\n",
       "      <th>urlDocumento</th>\n",
       "    </tr>\n",
       "  </thead>\n",
       "  <tbody>\n",
       "    <tr>\n",
       "      <th>0</th>\n",
       "      <td>LIDERANÇA DO DEMOCRATAS</td>\n",
       "      <td>NaN</td>\n",
       "      <td>NaN</td>\n",
       "      <td>NaN</td>\n",
       "      <td>2019</td>\n",
       "      <td>NaN</td>\n",
       "      <td>NaN</td>\n",
       "      <td>56</td>\n",
       "      <td>4</td>\n",
       "      <td>CONSULTORIAS, PESQUISAS E TRABALHOS TÉCNICOS.</td>\n",
       "      <td>...</td>\n",
       "      <td>2020</td>\n",
       "      <td>0</td>\n",
       "      <td>NaN</td>\n",
       "      <td>NaN</td>\n",
       "      <td>1693866</td>\n",
       "      <td>NaN</td>\n",
       "      <td>NaN</td>\n",
       "      <td>2713</td>\n",
       "      <td>7050172</td>\n",
       "      <td>https://www.camara.leg.br/cota-parlamentar/not...</td>\n",
       "    </tr>\n",
       "    <tr>\n",
       "      <th>1</th>\n",
       "      <td>LIDERANÇA DO DEMOCRATAS</td>\n",
       "      <td>NaN</td>\n",
       "      <td>NaN</td>\n",
       "      <td>NaN</td>\n",
       "      <td>2019</td>\n",
       "      <td>NaN</td>\n",
       "      <td>NaN</td>\n",
       "      <td>56</td>\n",
       "      <td>4</td>\n",
       "      <td>CONSULTORIAS, PESQUISAS E TRABALHOS TÉCNICOS.</td>\n",
       "      <td>...</td>\n",
       "      <td>2020</td>\n",
       "      <td>0</td>\n",
       "      <td>NaN</td>\n",
       "      <td>NaN</td>\n",
       "      <td>1698547</td>\n",
       "      <td>NaN</td>\n",
       "      <td>NaN</td>\n",
       "      <td>2713</td>\n",
       "      <td>7058437</td>\n",
       "      <td>https://www.camara.leg.br/cota-parlamentar/not...</td>\n",
       "    </tr>\n",
       "    <tr>\n",
       "      <th>2</th>\n",
       "      <td>LIDERANÇA DO DEMOCRATAS</td>\n",
       "      <td>NaN</td>\n",
       "      <td>NaN</td>\n",
       "      <td>NaN</td>\n",
       "      <td>2019</td>\n",
       "      <td>NaN</td>\n",
       "      <td>NaN</td>\n",
       "      <td>56</td>\n",
       "      <td>4</td>\n",
       "      <td>CONSULTORIAS, PESQUISAS E TRABALHOS TÉCNICOS.</td>\n",
       "      <td>...</td>\n",
       "      <td>2020</td>\n",
       "      <td>0</td>\n",
       "      <td>NaN</td>\n",
       "      <td>NaN</td>\n",
       "      <td>1709149</td>\n",
       "      <td>NaN</td>\n",
       "      <td>NaN</td>\n",
       "      <td>2713</td>\n",
       "      <td>7078508</td>\n",
       "      <td>https://www.camara.leg.br/cota-parlamentar/not...</td>\n",
       "    </tr>\n",
       "    <tr>\n",
       "      <th>3</th>\n",
       "      <td>LIDERANÇA DO DEMOCRATAS</td>\n",
       "      <td>NaN</td>\n",
       "      <td>NaN</td>\n",
       "      <td>NaN</td>\n",
       "      <td>2019</td>\n",
       "      <td>NaN</td>\n",
       "      <td>NaN</td>\n",
       "      <td>56</td>\n",
       "      <td>4</td>\n",
       "      <td>CONSULTORIAS, PESQUISAS E TRABALHOS TÉCNICOS.</td>\n",
       "      <td>...</td>\n",
       "      <td>2020</td>\n",
       "      <td>0</td>\n",
       "      <td>NaN</td>\n",
       "      <td>NaN</td>\n",
       "      <td>1730495</td>\n",
       "      <td>NaN</td>\n",
       "      <td>NaN</td>\n",
       "      <td>2713</td>\n",
       "      <td>7123566</td>\n",
       "      <td>https://www.camara.leg.br/cota-parlamentar/not...</td>\n",
       "    </tr>\n",
       "    <tr>\n",
       "      <th>4</th>\n",
       "      <td>LIDERANÇA DO DEMOCRATAS</td>\n",
       "      <td>NaN</td>\n",
       "      <td>NaN</td>\n",
       "      <td>NaN</td>\n",
       "      <td>2019</td>\n",
       "      <td>NaN</td>\n",
       "      <td>NaN</td>\n",
       "      <td>56</td>\n",
       "      <td>5</td>\n",
       "      <td>DIVULGAÇÃO DA ATIVIDADE PARLAMENTAR.</td>\n",
       "      <td>...</td>\n",
       "      <td>2020</td>\n",
       "      <td>0</td>\n",
       "      <td>NaN</td>\n",
       "      <td>NaN</td>\n",
       "      <td>1703569</td>\n",
       "      <td>NaN</td>\n",
       "      <td>NaN</td>\n",
       "      <td>2713</td>\n",
       "      <td>7067718</td>\n",
       "      <td>https://www.camara.leg.br/cota-parlamentar/not...</td>\n",
       "    </tr>\n",
       "  </tbody>\n",
       "</table>\n",
       "<p>5 rows × 31 columns</p>\n",
       "</div>"
      ],
      "text/plain": [
       "         txNomeParlamentar  cpf  ideCadastro  nuCarteiraParlamentar  \\\n",
       "0  LIDERANÇA DO DEMOCRATAS  NaN          NaN                    NaN   \n",
       "1  LIDERANÇA DO DEMOCRATAS  NaN          NaN                    NaN   \n",
       "2  LIDERANÇA DO DEMOCRATAS  NaN          NaN                    NaN   \n",
       "3  LIDERANÇA DO DEMOCRATAS  NaN          NaN                    NaN   \n",
       "4  LIDERANÇA DO DEMOCRATAS  NaN          NaN                    NaN   \n",
       "\n",
       "   nuLegislatura sgUF sgPartido  codLegislatura  numSubCota  \\\n",
       "0           2019  NaN       NaN              56           4   \n",
       "1           2019  NaN       NaN              56           4   \n",
       "2           2019  NaN       NaN              56           4   \n",
       "3           2019  NaN       NaN              56           4   \n",
       "4           2019  NaN       NaN              56           5   \n",
       "\n",
       "                                    txtDescricao  ...  numAno numParcela  \\\n",
       "0  CONSULTORIAS, PESQUISAS E TRABALHOS TÉCNICOS.  ...    2020          0   \n",
       "1  CONSULTORIAS, PESQUISAS E TRABALHOS TÉCNICOS.  ...    2020          0   \n",
       "2  CONSULTORIAS, PESQUISAS E TRABALHOS TÉCNICOS.  ...    2020          0   \n",
       "3  CONSULTORIAS, PESQUISAS E TRABALHOS TÉCNICOS.  ...    2020          0   \n",
       "4           DIVULGAÇÃO DA ATIVIDADE PARLAMENTAR.  ...    2020          0   \n",
       "\n",
       "  txtPassageiro txtTrecho  numLote  numRessarcimento vlrRestituicao  \\\n",
       "0           NaN       NaN  1693866               NaN            NaN   \n",
       "1           NaN       NaN  1698547               NaN            NaN   \n",
       "2           NaN       NaN  1709149               NaN            NaN   \n",
       "3           NaN       NaN  1730495               NaN            NaN   \n",
       "4           NaN       NaN  1703569               NaN            NaN   \n",
       "\n",
       "   nuDeputadoId  ideDocumento  \\\n",
       "0          2713       7050172   \n",
       "1          2713       7058437   \n",
       "2          2713       7078508   \n",
       "3          2713       7123566   \n",
       "4          2713       7067718   \n",
       "\n",
       "                                        urlDocumento  \n",
       "0  https://www.camara.leg.br/cota-parlamentar/not...  \n",
       "1  https://www.camara.leg.br/cota-parlamentar/not...  \n",
       "2  https://www.camara.leg.br/cota-parlamentar/not...  \n",
       "3  https://www.camara.leg.br/cota-parlamentar/not...  \n",
       "4  https://www.camara.leg.br/cota-parlamentar/not...  \n",
       "\n",
       "[5 rows x 31 columns]"
      ]
     },
     "execution_count": 13,
     "metadata": {},
     "output_type": "execute_result"
    }
   ],
   "source": [
    "inicio = 2020  #Ano inicial da base de dados\n",
    "fim = 2021     #Ano final da base de dados\n",
    "\n",
    "anos = [*range(inicio, fim, 1)]\n",
    "consolidated_df = []\n",
    "\n",
    "for ano in anos:\n",
    "    df = pd.read_csv(\"http://www.camara.leg.br/cotas/Ano-\"+ str(ano) +\".csv.zip\", sep=\";\")\n",
    "    consolidated_df.append(df)\n",
    "\n",
    "consolidated_df = pd.concat(consolidated_df)\n",
    "consolidated_df.head()"
   ]
  },
  {
   "cell_type": "markdown",
   "metadata": {},
   "source": [
    "**Análise Exploratória de Dados**"
   ]
  },
  {
   "cell_type": "code",
   "execution_count": 14,
   "metadata": {},
   "outputs": [
    {
     "data": {
      "text/plain": [
       "(378846, 31)"
      ]
     },
     "execution_count": 14,
     "metadata": {},
     "output_type": "execute_result"
    }
   ],
   "source": [
    "consolidated_df.shape #Formato do dataframe (linhas, colunas)"
   ]
  },
  {
   "cell_type": "code",
   "execution_count": 15,
   "metadata": {},
   "outputs": [
    {
     "name": "stdout",
     "output_type": "stream",
     "text": [
      "<class 'pandas.core.frame.DataFrame'>\n",
      "Int64Index: 378846 entries, 0 to 212471\n",
      "Data columns (total 31 columns):\n",
      " #   Column                     Non-Null Count   Dtype  \n",
      "---  ------                     --------------   -----  \n",
      " 0   txNomeParlamentar          378846 non-null  object \n",
      " 1   cpf                        377596 non-null  float64\n",
      " 2   ideCadastro                377596 non-null  float64\n",
      " 3   nuCarteiraParlamentar      377596 non-null  float64\n",
      " 4   nuLegislatura              378846 non-null  int64  \n",
      " 5   sgUF                       377596 non-null  object \n",
      " 6   sgPartido                  377596 non-null  object \n",
      " 7   codLegislatura             378846 non-null  int64  \n",
      " 8   numSubCota                 378846 non-null  int64  \n",
      " 9   txtDescricao               378846 non-null  object \n",
      " 10  numEspecificacaoSubCota    378846 non-null  int64  \n",
      " 11  txtDescricaoEspecificacao  94682 non-null   object \n",
      " 12  txtFornecedor              378828 non-null  object \n",
      " 13  txtCNPJCPF                 324082 non-null  object \n",
      " 14  txtNumero                  378843 non-null  object \n",
      " 15  indTipoDocumento           378846 non-null  int64  \n",
      " 16  datEmissao                 366795 non-null  object \n",
      " 17  vlrDocumento               378846 non-null  float64\n",
      " 18  vlrGlosa                   378846 non-null  float64\n",
      " 19  vlrLiquido                 378846 non-null  float64\n",
      " 20  numMes                     378846 non-null  int64  \n",
      " 21  numAno                     378846 non-null  int64  \n",
      " 22  numParcela                 378846 non-null  int64  \n",
      " 23  txtPassageiro              86882 non-null   object \n",
      " 24  txtTrecho                  86436 non-null   object \n",
      " 25  numLote                    378846 non-null  int64  \n",
      " 26  numRessarcimento           119775 non-null  float64\n",
      " 27  vlrRestituicao             169 non-null     float64\n",
      " 28  nuDeputadoId               378846 non-null  int64  \n",
      " 29  ideDocumento               378846 non-null  int64  \n",
      " 30  urlDocumento               239790 non-null  object \n",
      "dtypes: float64(8), int64(11), object(12)\n",
      "memory usage: 92.5+ MB\n"
     ]
    }
   ],
   "source": [
    "consolidated_df.info() #Colunas do dataframe"
   ]
  },
  {
   "cell_type": "code",
   "execution_count": 5,
   "metadata": {},
   "outputs": [
    {
     "data": {
      "image/png": "[encoded data removed]",
      "text/plain": [
       "<Figure size 432x288 with 1 Axes>"
      ]
     },
     "metadata": {
      "needs_background": "light"
     },
     "output_type": "display_data"
    }
   ],
   "source": [
    "#check for null values\n",
    "\n",
    "\n",
    "(\n",
    "    consolidated_df\n",
    "    .isnull()\n",
    "    .sum()\n",
    "    .sort_values(ascending=False)\n",
    "    / consolidated_df.shape[0]\n",
    ").plot(kind=\"bar\")\n",
    "\n",
    "plt.title(\"% of Null Values Per Variable\")\n",
    "\n",
    "plt.show()\n"
   ]
  },
  {
   "cell_type": "code",
   "execution_count": 22,
   "metadata": {},
   "outputs": [
    {
     "data": {
      "image/png": "[encoded data removed]",
      "text/plain": [
       "<Figure size 432x288 with 1 Axes>"
      ]
     },
     "metadata": {
      "needs_background": "light"
     },
     "output_type": "display_data"
    }
   ],
   "source": [
    "(\n",
    "    consolidated_df\n",
    "    .groupby(\"sgPartido\")[\"vlrDocumento\"]\n",
    "    .sum()\n",
    "    .sort_values(ascending=False)\n",
    "    / consolidated_df[\"vlrDocumento\"].sum()\n",
    ").plot(kind=\"bar\")\n",
    "\n",
    "plt.title(\"% of Total Cost Per Party\")\n",
    "\n",
    "plt.show()"
   ]
  }
 ],
 "metadata": {
  "kernelspec": {
   "display_name": "ds",
   "language": "python",
   "name": "ds"
  },
  "language_info": {
   "codemirror_mode": {
    "name": "ipython",
    "version": 3
   },
   "file_extension": ".py",
   "mimetype": "text/x-python",
   "name": "python",
   "nbconvert_exporter": "python",
   "pygments_lexer": "ipython3",
   "version": "3.10.4"
  },
  "orig_nbformat": 4,
  "vscode": {
   "interpreter": {
    "hash": "f974952c88f2ddaaf82cbc9a32c8a5b60b9ff9c2ed0dcf2415b1fdd18c0864ed"
   }
  }
 },
 "nbformat": 4,
 "nbformat_minor": 2
}
